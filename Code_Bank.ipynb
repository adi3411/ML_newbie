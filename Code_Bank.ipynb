{
  "nbformat": 4,
  "nbformat_minor": 0,
  "metadata": {
    "colab": {
      "provenance": []
    },
    "kernelspec": {
      "name": "python3",
      "display_name": "Python 3"
    },
    "language_info": {
      "name": "python"
    }
  },
  "cells": [
    {
      "cell_type": "code",
      "execution_count": 2,
      "metadata": {
        "id": "dZJ7iRJaTU8h"
      },
      "outputs": [],
      "source": [
        "from pandas import read_csv, get_dummies, Series, DataFrame\n",
        "from sklearn.preprocessing import StandardScaler\n",
        "from sklearn.model_selection import train_test_split\n",
        "from imblearn.over_sampling import SMOTE\n",
        "from sklearn import metrics\n",
        "from sklearn import ensemble\n",
        "from sklearn.ensemble import RandomForestClassifier\n",
        "from imblearn.pipeline import Pipeline    #method 3\n",
        "from sklearn.svm import SVC\n",
        "from sklearn.model_selection import GridSearchCV   #method 3"
      ]
    },
    {
      "cell_type": "code",
      "source": [
        "#Reading the Dataset\n",
        "data = read_csv('/content/drive/MyDrive/ML_Stats/bank.csv')\n",
        "data.info()\n",
        "\n",
        "#Exploring the data\n",
        "data.shape"
      ],
      "metadata": {
        "colab": {
          "base_uri": "https://localhost:8080/"
        },
        "id": "_hvTPaO-YL1y",
        "outputId": "ab438c5d-bc5d-422f-f6a3-07bb334463e6"
      },
      "execution_count": 3,
      "outputs": [
        {
          "output_type": "stream",
          "name": "stdout",
          "text": [
            "<class 'pandas.core.frame.DataFrame'>\n",
            "RangeIndex: 4521 entries, 0 to 4520\n",
            "Data columns (total 17 columns):\n",
            " #   Column     Non-Null Count  Dtype \n",
            "---  ------     --------------  ----- \n",
            " 0   age        4521 non-null   int64 \n",
            " 1   job        4521 non-null   object\n",
            " 2   marital    4521 non-null   object\n",
            " 3   education  4521 non-null   object\n",
            " 4   default    4521 non-null   object\n",
            " 5   balance    4521 non-null   int64 \n",
            " 6   housing    4521 non-null   object\n",
            " 7   loan       4521 non-null   object\n",
            " 8   contact    4521 non-null   object\n",
            " 9   day        4521 non-null   int64 \n",
            " 10  month      4521 non-null   object\n",
            " 11  duration   4521 non-null   int64 \n",
            " 12  campaign   4521 non-null   int64 \n",
            " 13  pdays      4521 non-null   int64 \n",
            " 14  previous   4521 non-null   int64 \n",
            " 15  poutcome   4521 non-null   object\n",
            " 16  y          4521 non-null   object\n",
            "dtypes: int64(7), object(10)\n",
            "memory usage: 600.6+ KB\n"
          ]
        },
        {
          "output_type": "execute_result",
          "data": {
            "text/plain": [
              "(4521, 17)"
            ]
          },
          "metadata": {},
          "execution_count": 3
        }
      ]
    },
    {
      "cell_type": "code",
      "source": [
        "# Data Cleaning\n",
        "# Check for missing values\n",
        "print(data.isnull().sum())"
      ],
      "metadata": {
        "colab": {
          "base_uri": "https://localhost:8080/"
        },
        "id": "BpJdGKTwvRjy",
        "outputId": "a9d69afa-0799-4ec0-a277-2f0bb0f990be"
      },
      "execution_count": 4,
      "outputs": [
        {
          "output_type": "stream",
          "name": "stdout",
          "text": [
            "age          0\n",
            "job          0\n",
            "marital      0\n",
            "education    0\n",
            "default      0\n",
            "balance      0\n",
            "housing      0\n",
            "loan         0\n",
            "contact      0\n",
            "day          0\n",
            "month        0\n",
            "duration     0\n",
            "campaign     0\n",
            "pdays        0\n",
            "previous     0\n",
            "poutcome     0\n",
            "y            0\n",
            "dtype: int64\n"
          ]
        }
      ]
    },
    {
      "cell_type": "code",
      "source": [
        "#Encoding\n",
        "# a. Binary Encoding\n",
        "data['default'] = data['default'].map({'yes':1, 'no':0})\n",
        "data['housing'] = data['housing'].map({'yes':1, 'no':0})\n",
        "data['loan'] = data['loan'].map({'yes':1, 'no':0})\n",
        "data['y'] = data['y'].map({'yes':1, 'no':0})    #converting target variable to binary\n",
        "\n",
        "# b. One-hot encoding - Dimentionality reduction\n",
        "#to avoid overfitting - \"Curse of Dimentionality\"\n",
        "#Label Encoding\n",
        "data['education'] = data['education'].map({'primary':1,'secondary':2,'tertiary':3, 'unknown':4})\n",
        "data['contact'] = data['contact'].map({'cellular':1,'unknown':2,'telephone':3})\n",
        "data['month'] = data['month'].map({'jan':1,'feb':2,'mar':3,'apr':4,'may':5,'jun':6,'jul':7,'aug':8,'sep':9,'oct':10,'nov':11,'dec':12})\n",
        "data['poutcome'] = data['poutcome'].map({'unknown':1,'failure':2,'other':3,'success':4})\n",
        "#data.info()\n",
        "\n",
        "#get dummies\n",
        "data2 = get_dummies(data, columns = ['job', 'marital'], dtype=int)\n",
        "data2.info()"
      ],
      "metadata": {
        "colab": {
          "base_uri": "https://localhost:8080/"
        },
        "id": "v_t2GDzxYR18",
        "outputId": "5e8f8588-ec11-4cc2-c7af-295567b627fc"
      },
      "execution_count": 6,
      "outputs": [
        {
          "output_type": "stream",
          "name": "stdout",
          "text": [
            "<class 'pandas.core.frame.DataFrame'>\n",
            "RangeIndex: 4521 entries, 0 to 4520\n",
            "Data columns (total 30 columns):\n",
            " #   Column             Non-Null Count  Dtype\n",
            "---  ------             --------------  -----\n",
            " 0   age                4521 non-null   int64\n",
            " 1   education          4521 non-null   int64\n",
            " 2   default            4521 non-null   int64\n",
            " 3   balance            4521 non-null   int64\n",
            " 4   housing            4521 non-null   int64\n",
            " 5   loan               4521 non-null   int64\n",
            " 6   contact            4521 non-null   int64\n",
            " 7   day                4521 non-null   int64\n",
            " 8   month              4521 non-null   int64\n",
            " 9   duration           4521 non-null   int64\n",
            " 10  campaign           4521 non-null   int64\n",
            " 11  pdays              4521 non-null   int64\n",
            " 12  previous           4521 non-null   int64\n",
            " 13  poutcome           4521 non-null   int64\n",
            " 14  y                  4521 non-null   int64\n",
            " 15  job_admin.         4521 non-null   int64\n",
            " 16  job_blue-collar    4521 non-null   int64\n",
            " 17  job_entrepreneur   4521 non-null   int64\n",
            " 18  job_housemaid      4521 non-null   int64\n",
            " 19  job_management     4521 non-null   int64\n",
            " 20  job_retired        4521 non-null   int64\n",
            " 21  job_self-employed  4521 non-null   int64\n",
            " 22  job_services       4521 non-null   int64\n",
            " 23  job_student        4521 non-null   int64\n",
            " 24  job_technician     4521 non-null   int64\n",
            " 25  job_unemployed     4521 non-null   int64\n",
            " 26  job_unknown        4521 non-null   int64\n",
            " 27  marital_divorced   4521 non-null   int64\n",
            " 28  marital_married    4521 non-null   int64\n",
            " 29  marital_single     4521 non-null   int64\n",
            "dtypes: int64(30)\n",
            "memory usage: 1.0 MB\n"
          ]
        }
      ]
    },
    {
      "cell_type": "code",
      "source": [
        "#X & Y - dropping the output\n",
        "X = data2.drop('y', axis = 1)\n",
        "Y = data2['y']\n",
        "\n",
        "#Scaling\n",
        "X_scaled = StandardScaler().fit_transform(X)\n",
        "\n",
        "#Spliting data\n",
        "X_train, X_test, Y_train, Y_test = train_test_split(X_scaled, Y, test_size=0.3, random_state=61)\n",
        "\n",
        "#balancing the data - SMOTE\n",
        "X_train, Y_train = SMOTE (random_state = 61).fit_resample(X_train,Y_train)\n"
      ],
      "metadata": {
        "id": "-1zWLsLEoiUO"
      },
      "execution_count": 7,
      "outputs": []
    },
    {
      "cell_type": "markdown",
      "source": [
        "## Random-forest Classifier"
      ],
      "metadata": {
        "id": "dqFsU36fBS4g"
      }
    },
    {
      "cell_type": "code",
      "source": [
        "# Random Forest Classifier (method 2) - to get the best value for Hpyprparameter - n_estimators\n",
        "RF_classifier2 = RandomForestClassifier(criterion='entropy', max_features='sqrt', random_state=36)  #building model/classifier\n",
        "\n",
        "no_trees = {'n_estimators': [50, 100, 200, 250, 300, 350, 400, 450]}\n",
        "RF_grid_search = GridSearchCV(estimator=RF_classifier2, param_grid=no_trees, scoring='recall', cv=5)\n",
        "\n",
        "RF_grid_search.fit(X_scaled, Y)   #fit: training, testing, evaluating & ranking\n",
        "\n",
        "RF_best_parameters = RF_grid_search.best_params_\n",
        "print(RF_best_parameters)\n",
        "RF_best_result = RF_grid_search.best_score_\n",
        "print(RF_best_result)"
      ],
      "metadata": {
        "colab": {
          "base_uri": "https://localhost:8080/"
        },
        "id": "HyNZVoDTBSjo",
        "outputId": "7339dcd7-84a2-4178-98a5-7561eb550ef7"
      },
      "execution_count": 8,
      "outputs": [
        {
          "output_type": "stream",
          "name": "stdout",
          "text": [
            "{'n_estimators': 50}\n",
            "0.2379120879120879\n"
          ]
        }
      ]
    },
    {
      "cell_type": "code",
      "source": [
        "#n_etimators found - go ahead with Method 1\n",
        "RF_classifier = RandomForestClassifier(n_estimators=50, criterion='entropy', max_features='sqrt', random_state=36)  #building model/classifier\n",
        "RF_classifier.fit(X_train, Y_train)        #training\n",
        "Y_pred_RF = RF_classifier.predict(X_test)  #testing\n",
        "\n",
        "#evaluation  &  confusion matrix\n",
        "RF_Accuracy = metrics.accuracy_score(Y_test, Y_pred_RF)\n",
        "print('Accuracy of Random Forest is :', round(RF_Accuracy,4))\n",
        "\n",
        "RF_recall = metrics.recall_score(Y_test, Y_pred_RF)\n",
        "print('Recall value for Random Forest is :', round(RF_recall,4))\n",
        "\n",
        "RF_precision = metrics.precision_score(Y_test, Y_pred_RF)\n",
        "print('Precisoin value for Random Forest is :', round(RF_precision,4))\n",
        "\n",
        "RF_f1 = metrics.f1_score(Y_test, Y_pred_RF)\n",
        "print('f1 score of Random forest is :', round(RF_f1,4))\n",
        "\n",
        "print('')\n",
        "RF_conf_matrix = metrics.confusion_matrix(Y_test, Y_pred_RF)\n",
        "print(\"Confusion MAtrix of Random Forest is :\")\n",
        "print(RF_conf_matrix)\n",
        "\n",
        "#important features\n",
        "RF_imp_features = Series(RF_classifier.feature_importances_, index=list(X)).sort_values(ascending=False)\n",
        "print('')\n",
        "print(RF_imp_features)"
      ],
      "metadata": {
        "colab": {
          "base_uri": "https://localhost:8080/"
        },
        "id": "XQoGVT_lB2ep",
        "outputId": "8f0fa7c1-964d-497b-d33d-c83a89a6a43a"
      },
      "execution_count": 12,
      "outputs": [
        {
          "output_type": "stream",
          "name": "stdout",
          "text": [
            "Accuracy of Random Forest is : 0.9013\n",
            "Recall value for Random Forest is : 0.4204\n",
            "Precisoin value for Random Forest is : 0.6055\n",
            "f1 score of Random forest is : 0.4962\n",
            "\n",
            "Confusion MAtrix of Random Forest is :\n",
            "[[1157   43]\n",
            " [  91   66]]\n"
          ]
        }
      ]
    },
    {
      "cell_type": "markdown",
      "source": [
        "## Support Vector Classification"
      ],
      "metadata": {
        "id": "OPFWG3POB_Ge"
      }
    },
    {
      "cell_type": "code",
      "source": [
        "#Initiating with Method 3 - to get values of Hyperparameters: c & kernel\n",
        "SV_classifier2 = Pipeline([('balancing', SMOTE(random_state = 101)), ('classification', SVC())])  #building model/classifier\n",
        "\n",
        "kernels_c = {'classification__kernel': ['linear','poly','rbf','sigmoid'], 'classification__C': [.001,.01,.1,1,10,100]}\n",
        "SV_grid_search = GridSearchCV(estimator = SV_classifier2, param_grid=kernels_c, scoring='recall', cv=5)  # Initialize GridSearchCV\n",
        "\n",
        "SV_grid_search.fit(X_scaled, Y)   # Fit the model #fit: training, testing, evaluating & ranking\n",
        "\n",
        "SV_best_parameters = SV_grid_search.best_params_\n",
        "print(SV_best_parameters)\n",
        "SV_best_result = SV_grid_search.best_score_\n",
        "print(SV_best_result)"
      ],
      "metadata": {
        "colab": {
          "base_uri": "https://localhost:8080/"
        },
        "id": "HV6VrYAgB_oy",
        "outputId": "251b37c8-2932-4ce4-a988-83f6b39bfd0d"
      },
      "execution_count": 19,
      "outputs": [
        {
          "output_type": "stream",
          "name": "stdout",
          "text": [
            "{'classification__C': 0.001, 'classification__kernel': 'rbf'}\n",
            "0.8157326007326008\n"
          ]
        }
      ]
    },
    {
      "cell_type": "code",
      "source": [
        "#building SVM using method 1\n",
        "#from sklearn.svm import SVC - importing library\n",
        "SV_classifier = SVC(kernel = 'rbf', C = 0.001)        # 1.building model/classifier\n",
        "SV_classifier.fit(X_train, Y_train)       # 2.training\n",
        "Y_pred_SV = SV_classifier.predict(X_test)  # 3.testing\n",
        "\n",
        "# 4.evaluation          & Confusion Matrix\n",
        "Accuracy_SV = metrics.accuracy_score(Y_test, Y_pred_SV)      #Calculating Accuracy\n",
        "print('Support Vector Accuracy is: ', round(Accuracy_SV,4))\n",
        "\n",
        "recall_SV = metrics.recall_score(Y_test, Y_pred_SV)         #Calculating Recall\n",
        "print('Support Vector Recall is: ', round(recall_SV,4))\n",
        "\n",
        "precision_SV = metrics.precision_score(Y_test, Y_pred_SV)    #Calculating Precision\n",
        "print('Support Vector Precision is: ', round(precision_SV,4))\n",
        "\n",
        "f1_SV = metrics.f1_score(Y_test, Y_pred_SV)               #Calculating f1\n",
        "print('Support Vector f1 is: ', round(f1_SV,4))\n",
        "\n",
        "print('')\n",
        "conf_matrix_SV = metrics.confusion_matrix(Y_test, Y_pred_SV)   #Calculating Confusion Matrix\n",
        "print('Support Vector Confusion Matrix is: ')\n",
        "print(conf_matrix_SV)"
      ],
      "metadata": {
        "colab": {
          "base_uri": "https://localhost:8080/"
        },
        "id": "dmE7J_X4FC-a",
        "outputId": "a4ba5ff6-7ce8-489c-9393-5dd7f45474e5"
      },
      "execution_count": 20,
      "outputs": [
        {
          "output_type": "stream",
          "name": "stdout",
          "text": [
            "Support Vector Accuracy is:  0.6514\n",
            "Support Vector Recall is:  0.8153\n",
            "Support Vector Precision is:  0.2238\n",
            "Support Vector f1 is:  0.3512\n",
            "\n",
            "Support Vector Confusion Matrix is: \n",
            "[[756 444]\n",
            " [ 29 128]]\n"
          ]
        }
      ]
    }
  ]
}